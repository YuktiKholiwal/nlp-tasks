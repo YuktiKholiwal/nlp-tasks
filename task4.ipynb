{
 "cells": [
  {
   "cell_type": "code",
   "execution_count": 1,
   "id": "9bca4e12",
   "metadata": {},
   "outputs": [],
   "source": [
    "import nltk"
   ]
  },
  {
   "cell_type": "code",
   "execution_count": 3,
   "id": "fc96fafd",
   "metadata": {},
   "outputs": [],
   "source": [
    "text1 = 'Donald John Trump (born June 14, 1946) is an American politician, media personality, and businessman who served as the 45th president of the United States from 2017 to 2021.Trump graduated from the Wharton School of the University of Pennsylvania with a bachelors degree in 1968. He became president of his father Fred Trumps real estate business in 1971 and renamed it The Trump Organization. Trump expanded the companys operations to building and renovating skyscrapers, hotels, casinos, and golf courses. He later started side ventures, mostly by licensing his name. From 2004 to 2015, he co-produced and hosted the reality television series The Apprentice. Trump and his businesses have been involved in more than 4,000 state and federal legal actions, including six bankruptcies. Trumps political positions have been described as populist, protectionist, isolationist, and nationalist. He won the 2016 United States presidential election as the Republican nominee against Democratic nominee Hillary Clinton but lost the popular vote,[a] becoming the first U.S. president with no prior military or government service. His election and policies sparked numerous protests. The 2017–2019 special counsel investigation led by Robert Mueller established that Russia interfered in the 2016 election to benefit the Trump campaign, but not that members of the Trump campaign \"conspired\" or \"coordinated\" with Russia. Trump made many false and misleading statements during his campaigns and presidency, to a degree unprecedented in American politics, and promoted conspiracy theories. Many of his comments and actions have been characterized as racially charged or racist, and many as misogynistic.'"
   ]
  },
  {
   "cell_type": "code",
   "execution_count": 5,
   "id": "198743ff",
   "metadata": {},
   "outputs": [],
   "source": [
    "fd = nltk.FreqDist(text1.split())"
   ]
  },
  {
   "cell_type": "code",
   "execution_count": 13,
   "id": "3a14b69d",
   "metadata": {},
   "outputs": [
    {
     "data": {
      "text/plain": [
       "FreqDist({'and': 14, 'the': 13, 'Trump': 7, 'of': 6, 'as': 5, 'to': 5, 'in': 5, 'his': 5, 'president': 3, 'with': 3, ...})"
      ]
     },
     "execution_count": 13,
     "metadata": {},
     "output_type": "execute_result"
    }
   ],
   "source": [
    "fd"
   ]
  },
  {
   "cell_type": "code",
   "execution_count": null,
   "id": "3572db9e",
   "metadata": {},
   "outputs": [],
   "source": []
  },
  {
   "cell_type": "code",
   "execution_count": 7,
   "id": "963afb88",
   "metadata": {},
   "outputs": [],
   "source": [
    "from nltk.probability import ConditionalFreqDist"
   ]
  },
  {
   "cell_type": "code",
   "execution_count": 9,
   "id": "bb0fdc17",
   "metadata": {},
   "outputs": [],
   "source": [
    "cfd= ConditionalFreqDist((len(word),word) for word in text1.split())"
   ]
  },
  {
   "cell_type": "code",
   "execution_count": 14,
   "id": "b549a814",
   "metadata": {},
   "outputs": [
    {
     "data": {
      "text/plain": [
       "FreqDist({'and': 14, 'the': 13, 'his': 5, 'The': 3, 'but': 2, '14,': 1, 'who': 1, 'six': 1, 'won': 1, 'His': 1, ...})"
      ]
     },
     "execution_count": 14,
     "metadata": {},
     "output_type": "execute_result"
    }
   ],
   "source": [
    "cfd[3]"
   ]
  },
  {
   "cell_type": "code",
   "execution_count": null,
   "id": "94446d1a",
   "metadata": {},
   "outputs": [],
   "source": []
  }
 ],
 "metadata": {
  "kernelspec": {
   "display_name": "Python 3 (ipykernel)",
   "language": "python",
   "name": "python3"
  },
  "language_info": {
   "codemirror_mode": {
    "name": "ipython",
    "version": 3
   },
   "file_extension": ".py",
   "mimetype": "text/x-python",
   "name": "python",
   "nbconvert_exporter": "python",
   "pygments_lexer": "ipython3",
   "version": "3.9.12"
  }
 },
 "nbformat": 4,
 "nbformat_minor": 5
}
