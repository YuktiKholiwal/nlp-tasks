{
 "cells": [
  {
   "cell_type": "code",
   "execution_count": 1,
   "id": "8a0a91bc",
   "metadata": {},
   "outputs": [],
   "source": [
    "import nltk"
   ]
  },
  {
   "cell_type": "code",
   "execution_count": 1,
   "id": "96a0dd88",
   "metadata": {},
   "outputs": [
    {
     "name": "stdout",
     "output_type": "stream",
     "text": [
      "what is healthcar management?\n",
      "healthcar manag is a grow industri in the unit states. the bureau of labor statist state that job in healthcar manag are anticip to see a growth of 22 percent in the decad between 2010 and 2020. it make sens that the need for healthcar provid and facil is growing, as the popul age and life expect increas due to medic advances. the need for profession to manag healthcar facil will also grow. here are some thing to know about healthcar manag if you are consid enter the field.\n",
      "\n",
      "about healthcar management\n",
      "healthcar management, also refer to as healthcar administration, is the administration, manag or oversight of healthcar systems, public health systems, hospitals, entir hospit network or other medic facilities. duti of these profession includ ensur that individu depart run smoothly,qualifi employe are hired, inform is dissemin effici throughout the organization, specif outcom are reach and resourc are use efficiently, among mani other responsibilities. there are gener healthcar manag and those who are consid specialists. generalist overse entir facilities, while specialist focu on the administr of specif depart like marketing, fiance, polici analysi or accounting.\n",
      "\n",
      "requir education\n",
      "ther are variou degre that can lead to a profession posit as a healthcar manager. student usual pursu a program in healthcar manag through a busi school or school of public health. there are bachelor' level program be offer in the field of healthcar administration; however, most peopl in the profess do hold a master' degree, which tend to be the expect of hire personnel for such positions. healthcar manag profession can also advanc their educ to pursu a doctor degre in health administr in order to move into teach posit at the colleg level, becom a public polici analyst or lead larger organ at more complex levels.\n",
      "\n",
      "th overarch accredit bodi that overse educ program of healthcar administr in the unit state is the commiss on the accredit of healthcar manag education. degre program that fall under it auspic includ the master of health servic administration, master of hospit administration, master of health administration, master of busi administr in hospit manag and master of public health, among other more gener program that can lead to career in healthcar oversight.\n",
      "\n",
      "certification, licensur and associations\n",
      "whil requir are differ from state to state, most healthcar administr profession do not requir a license. an except to thi rule may be for those who wish to open their own facility, as most state do requir a licens for oper such as nurs homes, privat hospit and long-term care facilities. for those who do not need a license, certif or other credenti may provid a profession advantage. credenti board offer certif base on a combin of education, experi and knowledg exams. the american colleg of healthcar execut offer two well-respect titl to industri professionals. these are the fellow of american colleg of healthcar execut (fache) and certifi healthcar execut (che). the nation associ for healthcar qualiti and the american colleg of medic practic execut are two other accredit organ in the healthcar administr field.\n"
     ]
    }
   ],
   "source": [
    "from nltk.stem import PorterStemmer\n",
    "stemmer = PorterStemmer()\n",
    "f = open(\"file1.txt\", \"r\")\n",
    "eg = f.read()\n",
    "eg = [stemmer.stem(token) for token in eg.split(\" \")]\n",
    "print(\" \".join(eg))\n",
    "#import text file and do stemming"
   ]
  },
  {
   "cell_type": "code",
   "execution_count": null,
   "id": "528d4e6c",
   "metadata": {},
   "outputs": [],
   "source": []
  },
  {
   "cell_type": "code",
   "execution_count": null,
   "id": "2d9ea50f",
   "metadata": {},
   "outputs": [],
   "source": []
  }
 ],
 "metadata": {
  "kernelspec": {
   "display_name": "Python 3 (ipykernel)",
   "language": "python",
   "name": "python3"
  },
  "language_info": {
   "codemirror_mode": {
    "name": "ipython",
    "version": 3
   },
   "file_extension": ".py",
   "mimetype": "text/x-python",
   "name": "python",
   "nbconvert_exporter": "python",
   "pygments_lexer": "ipython3",
   "version": "3.9.12"
  }
 },
 "nbformat": 4,
 "nbformat_minor": 5
}
