{
 "cells": [
  {
   "cell_type": "code",
   "execution_count": 2,
   "id": "0bd3e5f4",
   "metadata": {},
   "outputs": [],
   "source": [
    "import nltk"
   ]
  },
  {
   "cell_type": "code",
   "execution_count": 3,
   "id": "1ed11f38",
   "metadata": {},
   "outputs": [],
   "source": [
    "def gender_features(word):\n",
    "    return {'last_letter':word[-1]}"
   ]
  },
  {
   "cell_type": "code",
   "execution_count": 4,
   "id": "0793ff45",
   "metadata": {},
   "outputs": [
    {
     "data": {
      "text/plain": [
       "{'last_letter': 'a'}"
      ]
     },
     "execution_count": 4,
     "metadata": {},
     "output_type": "execute_result"
    }
   ],
   "source": [
    "gender_features('Obama')"
   ]
  },
  {
   "cell_type": "code",
   "execution_count": 5,
   "id": "e6e5217a",
   "metadata": {},
   "outputs": [],
   "source": [
    "from nltk.corpus import names\n",
    "labeled_names = ([(name,'male') for name in names.words('male.txt')]+[(name,'female') for name in names.words('female.txt')])"
   ]
  },
  {
   "cell_type": "code",
   "execution_count": 6,
   "id": "0044aa20",
   "metadata": {},
   "outputs": [],
   "source": [
    "import random\n",
    "random.shuffle(labeled_names)"
   ]
  },
  {
   "cell_type": "code",
   "execution_count": 7,
   "id": "fa9b8701",
   "metadata": {},
   "outputs": [],
   "source": [
    "featuresets = [(gender_features(n),gender) for (n,gender) in labeled_names]"
   ]
  },
  {
   "cell_type": "code",
   "execution_count": 8,
   "id": "57fad4a7",
   "metadata": {},
   "outputs": [],
   "source": [
    "train_set, test_test = featuresets[500:],featuresets[:500]"
   ]
  },
  {
   "cell_type": "code",
   "execution_count": 9,
   "id": "018bca7f",
   "metadata": {},
   "outputs": [],
   "source": [
    "import nltk"
   ]
  },
  {
   "cell_type": "code",
   "execution_count": 10,
   "id": "84ea7a5a",
   "metadata": {},
   "outputs": [],
   "source": [
    "classifier = nltk.NaiveBayesClassifier.train(train_set)"
   ]
  },
  {
   "cell_type": "code",
   "execution_count": 11,
   "id": "472725c9",
   "metadata": {},
   "outputs": [
    {
     "data": {
      "text/plain": [
       "'female'"
      ]
     },
     "execution_count": 11,
     "metadata": {},
     "output_type": "execute_result"
    }
   ],
   "source": [
    "classifier.classify(gender_features('yukti'))"
   ]
  },
  {
   "cell_type": "code",
   "execution_count": 12,
   "id": "95793257",
   "metadata": {},
   "outputs": [
    {
     "data": {
      "text/plain": [
       "'male'"
      ]
     },
     "execution_count": 12,
     "metadata": {},
     "output_type": "execute_result"
    }
   ],
   "source": [
    "classifier.classify(gender_features('Rishit'))"
   ]
  },
  {
   "cell_type": "code",
   "execution_count": 13,
   "id": "83b02039",
   "metadata": {},
   "outputs": [
    {
     "name": "stdout",
     "output_type": "stream",
     "text": [
      "0.754\n"
     ]
    }
   ],
   "source": [
    "print(nltk.classify.accuracy(classifier,test_test))"
   ]
  },
  {
   "cell_type": "code",
   "execution_count": null,
   "id": "79b36f8e",
   "metadata": {},
   "outputs": [],
   "source": []
  }
 ],
 "metadata": {
  "kernelspec": {
   "display_name": "Python 3 (ipykernel)",
   "language": "python",
   "name": "python3"
  },
  "language_info": {
   "codemirror_mode": {
    "name": "ipython",
    "version": 3
   },
   "file_extension": ".py",
   "mimetype": "text/x-python",
   "name": "python",
   "nbconvert_exporter": "python",
   "pygments_lexer": "ipython3",
   "version": "3.9.12"
  }
 },
 "nbformat": 4,
 "nbformat_minor": 5
}
