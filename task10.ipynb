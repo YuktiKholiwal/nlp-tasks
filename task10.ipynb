{
 "cells": [
  {
   "cell_type": "code",
   "execution_count": 1,
   "id": "7be842bf",
   "metadata": {},
   "outputs": [],
   "source": [
    "import nltk"
   ]
  },
  {
   "cell_type": "code",
   "execution_count": 5,
   "id": "638561c0",
   "metadata": {},
   "outputs": [],
   "source": [
    "texts = \"How much wood would a woodchuck chuck if a woodchuck could chuck wood?\""
   ]
  },
  {
   "cell_type": "code",
   "execution_count": 6,
   "id": "192e545f",
   "metadata": {},
   "outputs": [
    {
     "name": "stdout",
     "output_type": "stream",
     "text": [
      "[('How', 'WRB'), ('much', 'JJ'), ('wood', 'NN'), ('would', 'MD'), ('a', 'DT'), ('woodchuck', 'JJ'), ('chuck', 'NN'), ('if', 'IN'), ('a', 'DT'), ('woodchuck', 'NN'), ('could', 'MD'), ('chuck', 'VB'), ('wood', 'NN'), ('?', '.')]\n",
      "[('How', 'WRB'), ('much', 'JJ'), ('wood', 'NN'), ('would', 'MD'), ('a', 'DT'), ('woodchuck', 'JJ'), ('chuck', 'NN'), ('if', 'IN'), ('a', 'DT'), ('woodchuck', 'NN'), ('could', 'MD'), ('chuck', 'VB'), ('wood', 'NN'), ('?', '.')]\n",
      "[('How', 'WRB'), ('much', 'JJ'), ('wood', 'NN'), ('would', 'MD'), ('a', 'DT'), ('woodchuck', 'JJ'), ('chuck', 'NN'), ('if', 'IN'), ('a', 'DT'), ('woodchuck', 'NN'), ('could', 'MD'), ('chuck', 'VB'), ('wood', 'NN'), ('?', '.')]\n",
      "[('How', 'WRB'), ('much', 'JJ'), ('wood', 'NN'), ('would', 'MD'), ('a', 'DT'), ('woodchuck', 'JJ'), ('chuck', 'NN'), ('if', 'IN'), ('a', 'DT'), ('woodchuck', 'NN'), ('could', 'MD'), ('chuck', 'VB'), ('wood', 'NN'), ('?', '.')]\n",
      "[('How', 'WRB'), ('much', 'JJ'), ('wood', 'NN'), ('would', 'MD'), ('a', 'DT'), ('woodchuck', 'JJ'), ('chuck', 'NN'), ('if', 'IN'), ('a', 'DT'), ('woodchuck', 'NN'), ('could', 'MD'), ('chuck', 'VB'), ('wood', 'NN'), ('?', '.')]\n",
      "[('How', 'WRB'), ('much', 'JJ'), ('wood', 'NN'), ('would', 'MD'), ('a', 'DT'), ('woodchuck', 'JJ'), ('chuck', 'NN'), ('if', 'IN'), ('a', 'DT'), ('woodchuck', 'NN'), ('could', 'MD'), ('chuck', 'VB'), ('wood', 'NN'), ('?', '.')]\n",
      "[('How', 'WRB'), ('much', 'JJ'), ('wood', 'NN'), ('would', 'MD'), ('a', 'DT'), ('woodchuck', 'JJ'), ('chuck', 'NN'), ('if', 'IN'), ('a', 'DT'), ('woodchuck', 'NN'), ('could', 'MD'), ('chuck', 'VB'), ('wood', 'NN'), ('?', '.')]\n",
      "[('How', 'WRB'), ('much', 'JJ'), ('wood', 'NN'), ('would', 'MD'), ('a', 'DT'), ('woodchuck', 'JJ'), ('chuck', 'NN'), ('if', 'IN'), ('a', 'DT'), ('woodchuck', 'NN'), ('could', 'MD'), ('chuck', 'VB'), ('wood', 'NN'), ('?', '.')]\n",
      "[('How', 'WRB'), ('much', 'JJ'), ('wood', 'NN'), ('would', 'MD'), ('a', 'DT'), ('woodchuck', 'JJ'), ('chuck', 'NN'), ('if', 'IN'), ('a', 'DT'), ('woodchuck', 'NN'), ('could', 'MD'), ('chuck', 'VB'), ('wood', 'NN'), ('?', '.')]\n",
      "[('How', 'WRB'), ('much', 'JJ'), ('wood', 'NN'), ('would', 'MD'), ('a', 'DT'), ('woodchuck', 'JJ'), ('chuck', 'NN'), ('if', 'IN'), ('a', 'DT'), ('woodchuck', 'NN'), ('could', 'MD'), ('chuck', 'VB'), ('wood', 'NN'), ('?', '.')]\n",
      "[('How', 'WRB'), ('much', 'JJ'), ('wood', 'NN'), ('would', 'MD'), ('a', 'DT'), ('woodchuck', 'JJ'), ('chuck', 'NN'), ('if', 'IN'), ('a', 'DT'), ('woodchuck', 'NN'), ('could', 'MD'), ('chuck', 'VB'), ('wood', 'NN'), ('?', '.')]\n",
      "[('How', 'WRB'), ('much', 'JJ'), ('wood', 'NN'), ('would', 'MD'), ('a', 'DT'), ('woodchuck', 'JJ'), ('chuck', 'NN'), ('if', 'IN'), ('a', 'DT'), ('woodchuck', 'NN'), ('could', 'MD'), ('chuck', 'VB'), ('wood', 'NN'), ('?', '.')]\n",
      "[('How', 'WRB'), ('much', 'JJ'), ('wood', 'NN'), ('would', 'MD'), ('a', 'DT'), ('woodchuck', 'JJ'), ('chuck', 'NN'), ('if', 'IN'), ('a', 'DT'), ('woodchuck', 'NN'), ('could', 'MD'), ('chuck', 'VB'), ('wood', 'NN'), ('?', '.')]\n",
      "[('How', 'WRB'), ('much', 'JJ'), ('wood', 'NN'), ('would', 'MD'), ('a', 'DT'), ('woodchuck', 'JJ'), ('chuck', 'NN'), ('if', 'IN'), ('a', 'DT'), ('woodchuck', 'NN'), ('could', 'MD'), ('chuck', 'VB'), ('wood', 'NN'), ('?', '.')]\n",
      "[('How', 'WRB'), ('much', 'JJ'), ('wood', 'NN'), ('would', 'MD'), ('a', 'DT'), ('woodchuck', 'JJ'), ('chuck', 'NN'), ('if', 'IN'), ('a', 'DT'), ('woodchuck', 'NN'), ('could', 'MD'), ('chuck', 'VB'), ('wood', 'NN'), ('?', '.')]\n",
      "[('How', 'WRB'), ('much', 'JJ'), ('wood', 'NN'), ('would', 'MD'), ('a', 'DT'), ('woodchuck', 'JJ'), ('chuck', 'NN'), ('if', 'IN'), ('a', 'DT'), ('woodchuck', 'NN'), ('could', 'MD'), ('chuck', 'VB'), ('wood', 'NN'), ('?', '.')]\n",
      "[('How', 'WRB'), ('much', 'JJ'), ('wood', 'NN'), ('would', 'MD'), ('a', 'DT'), ('woodchuck', 'JJ'), ('chuck', 'NN'), ('if', 'IN'), ('a', 'DT'), ('woodchuck', 'NN'), ('could', 'MD'), ('chuck', 'VB'), ('wood', 'NN'), ('?', '.')]\n",
      "[('How', 'WRB'), ('much', 'JJ'), ('wood', 'NN'), ('would', 'MD'), ('a', 'DT'), ('woodchuck', 'JJ'), ('chuck', 'NN'), ('if', 'IN'), ('a', 'DT'), ('woodchuck', 'NN'), ('could', 'MD'), ('chuck', 'VB'), ('wood', 'NN'), ('?', '.')]\n",
      "[('How', 'WRB'), ('much', 'JJ'), ('wood', 'NN'), ('would', 'MD'), ('a', 'DT'), ('woodchuck', 'JJ'), ('chuck', 'NN'), ('if', 'IN'), ('a', 'DT'), ('woodchuck', 'NN'), ('could', 'MD'), ('chuck', 'VB'), ('wood', 'NN'), ('?', '.')]\n",
      "[('How', 'WRB'), ('much', 'JJ'), ('wood', 'NN'), ('would', 'MD'), ('a', 'DT'), ('woodchuck', 'JJ'), ('chuck', 'NN'), ('if', 'IN'), ('a', 'DT'), ('woodchuck', 'NN'), ('could', 'MD'), ('chuck', 'VB'), ('wood', 'NN'), ('?', '.')]\n",
      "[('How', 'WRB'), ('much', 'JJ'), ('wood', 'NN'), ('would', 'MD'), ('a', 'DT'), ('woodchuck', 'JJ'), ('chuck', 'NN'), ('if', 'IN'), ('a', 'DT'), ('woodchuck', 'NN'), ('could', 'MD'), ('chuck', 'VB'), ('wood', 'NN'), ('?', '.')]\n",
      "[('How', 'WRB'), ('much', 'JJ'), ('wood', 'NN'), ('would', 'MD'), ('a', 'DT'), ('woodchuck', 'JJ'), ('chuck', 'NN'), ('if', 'IN'), ('a', 'DT'), ('woodchuck', 'NN'), ('could', 'MD'), ('chuck', 'VB'), ('wood', 'NN'), ('?', '.')]\n",
      "[('How', 'WRB'), ('much', 'JJ'), ('wood', 'NN'), ('would', 'MD'), ('a', 'DT'), ('woodchuck', 'JJ'), ('chuck', 'NN'), ('if', 'IN'), ('a', 'DT'), ('woodchuck', 'NN'), ('could', 'MD'), ('chuck', 'VB'), ('wood', 'NN'), ('?', '.')]\n",
      "[('How', 'WRB'), ('much', 'JJ'), ('wood', 'NN'), ('would', 'MD'), ('a', 'DT'), ('woodchuck', 'JJ'), ('chuck', 'NN'), ('if', 'IN'), ('a', 'DT'), ('woodchuck', 'NN'), ('could', 'MD'), ('chuck', 'VB'), ('wood', 'NN'), ('?', '.')]\n",
      "[('How', 'WRB'), ('much', 'JJ'), ('wood', 'NN'), ('would', 'MD'), ('a', 'DT'), ('woodchuck', 'JJ'), ('chuck', 'NN'), ('if', 'IN'), ('a', 'DT'), ('woodchuck', 'NN'), ('could', 'MD'), ('chuck', 'VB'), ('wood', 'NN'), ('?', '.')]\n",
      "[('How', 'WRB'), ('much', 'JJ'), ('wood', 'NN'), ('would', 'MD'), ('a', 'DT'), ('woodchuck', 'JJ'), ('chuck', 'NN'), ('if', 'IN'), ('a', 'DT'), ('woodchuck', 'NN'), ('could', 'MD'), ('chuck', 'VB'), ('wood', 'NN'), ('?', '.')]\n",
      "[('How', 'WRB'), ('much', 'JJ'), ('wood', 'NN'), ('would', 'MD'), ('a', 'DT'), ('woodchuck', 'JJ'), ('chuck', 'NN'), ('if', 'IN'), ('a', 'DT'), ('woodchuck', 'NN'), ('could', 'MD'), ('chuck', 'VB'), ('wood', 'NN'), ('?', '.')]\n",
      "[('How', 'WRB'), ('much', 'JJ'), ('wood', 'NN'), ('would', 'MD'), ('a', 'DT'), ('woodchuck', 'JJ'), ('chuck', 'NN'), ('if', 'IN'), ('a', 'DT'), ('woodchuck', 'NN'), ('could', 'MD'), ('chuck', 'VB'), ('wood', 'NN'), ('?', '.')]\n",
      "[('How', 'WRB'), ('much', 'JJ'), ('wood', 'NN'), ('would', 'MD'), ('a', 'DT'), ('woodchuck', 'JJ'), ('chuck', 'NN'), ('if', 'IN'), ('a', 'DT'), ('woodchuck', 'NN'), ('could', 'MD'), ('chuck', 'VB'), ('wood', 'NN'), ('?', '.')]\n",
      "[('How', 'WRB'), ('much', 'JJ'), ('wood', 'NN'), ('would', 'MD'), ('a', 'DT'), ('woodchuck', 'JJ'), ('chuck', 'NN'), ('if', 'IN'), ('a', 'DT'), ('woodchuck', 'NN'), ('could', 'MD'), ('chuck', 'VB'), ('wood', 'NN'), ('?', '.')]\n",
      "[('How', 'WRB'), ('much', 'JJ'), ('wood', 'NN'), ('would', 'MD'), ('a', 'DT'), ('woodchuck', 'JJ'), ('chuck', 'NN'), ('if', 'IN'), ('a', 'DT'), ('woodchuck', 'NN'), ('could', 'MD'), ('chuck', 'VB'), ('wood', 'NN'), ('?', '.')]\n",
      "[('How', 'WRB'), ('much', 'JJ'), ('wood', 'NN'), ('would', 'MD'), ('a', 'DT'), ('woodchuck', 'JJ'), ('chuck', 'NN'), ('if', 'IN'), ('a', 'DT'), ('woodchuck', 'NN'), ('could', 'MD'), ('chuck', 'VB'), ('wood', 'NN'), ('?', '.')]\n",
      "[('How', 'WRB'), ('much', 'JJ'), ('wood', 'NN'), ('would', 'MD'), ('a', 'DT'), ('woodchuck', 'JJ'), ('chuck', 'NN'), ('if', 'IN'), ('a', 'DT'), ('woodchuck', 'NN'), ('could', 'MD'), ('chuck', 'VB'), ('wood', 'NN'), ('?', '.')]\n",
      "[('How', 'WRB'), ('much', 'JJ'), ('wood', 'NN'), ('would', 'MD'), ('a', 'DT'), ('woodchuck', 'JJ'), ('chuck', 'NN'), ('if', 'IN'), ('a', 'DT'), ('woodchuck', 'NN'), ('could', 'MD'), ('chuck', 'VB'), ('wood', 'NN'), ('?', '.')]\n",
      "[('How', 'WRB'), ('much', 'JJ'), ('wood', 'NN'), ('would', 'MD'), ('a', 'DT'), ('woodchuck', 'JJ'), ('chuck', 'NN'), ('if', 'IN'), ('a', 'DT'), ('woodchuck', 'NN'), ('could', 'MD'), ('chuck', 'VB'), ('wood', 'NN'), ('?', '.')]\n",
      "[('How', 'WRB'), ('much', 'JJ'), ('wood', 'NN'), ('would', 'MD'), ('a', 'DT'), ('woodchuck', 'JJ'), ('chuck', 'NN'), ('if', 'IN'), ('a', 'DT'), ('woodchuck', 'NN'), ('could', 'MD'), ('chuck', 'VB'), ('wood', 'NN'), ('?', '.')]\n",
      "[('How', 'WRB'), ('much', 'JJ'), ('wood', 'NN'), ('would', 'MD'), ('a', 'DT'), ('woodchuck', 'JJ'), ('chuck', 'NN'), ('if', 'IN'), ('a', 'DT'), ('woodchuck', 'NN'), ('could', 'MD'), ('chuck', 'VB'), ('wood', 'NN'), ('?', '.')]\n",
      "[('How', 'WRB'), ('much', 'JJ'), ('wood', 'NN'), ('would', 'MD'), ('a', 'DT'), ('woodchuck', 'JJ'), ('chuck', 'NN'), ('if', 'IN'), ('a', 'DT'), ('woodchuck', 'NN'), ('could', 'MD'), ('chuck', 'VB'), ('wood', 'NN'), ('?', '.')]\n",
      "[('How', 'WRB'), ('much', 'JJ'), ('wood', 'NN'), ('would', 'MD'), ('a', 'DT'), ('woodchuck', 'JJ'), ('chuck', 'NN'), ('if', 'IN'), ('a', 'DT'), ('woodchuck', 'NN'), ('could', 'MD'), ('chuck', 'VB'), ('wood', 'NN'), ('?', '.')]\n",
      "[('How', 'WRB'), ('much', 'JJ'), ('wood', 'NN'), ('would', 'MD'), ('a', 'DT'), ('woodchuck', 'JJ'), ('chuck', 'NN'), ('if', 'IN'), ('a', 'DT'), ('woodchuck', 'NN'), ('could', 'MD'), ('chuck', 'VB'), ('wood', 'NN'), ('?', '.')]\n",
      "[('How', 'WRB'), ('much', 'JJ'), ('wood', 'NN'), ('would', 'MD'), ('a', 'DT'), ('woodchuck', 'JJ'), ('chuck', 'NN'), ('if', 'IN'), ('a', 'DT'), ('woodchuck', 'NN'), ('could', 'MD'), ('chuck', 'VB'), ('wood', 'NN'), ('?', '.')]\n",
      "[('How', 'WRB'), ('much', 'JJ'), ('wood', 'NN'), ('would', 'MD'), ('a', 'DT'), ('woodchuck', 'JJ'), ('chuck', 'NN'), ('if', 'IN'), ('a', 'DT'), ('woodchuck', 'NN'), ('could', 'MD'), ('chuck', 'VB'), ('wood', 'NN'), ('?', '.')]\n",
      "[('How', 'WRB'), ('much', 'JJ'), ('wood', 'NN'), ('would', 'MD'), ('a', 'DT'), ('woodchuck', 'JJ'), ('chuck', 'NN'), ('if', 'IN'), ('a', 'DT'), ('woodchuck', 'NN'), ('could', 'MD'), ('chuck', 'VB'), ('wood', 'NN'), ('?', '.')]\n",
      "[('How', 'WRB'), ('much', 'JJ'), ('wood', 'NN'), ('would', 'MD'), ('a', 'DT'), ('woodchuck', 'JJ'), ('chuck', 'NN'), ('if', 'IN'), ('a', 'DT'), ('woodchuck', 'NN'), ('could', 'MD'), ('chuck', 'VB'), ('wood', 'NN'), ('?', '.')]\n",
      "[('How', 'WRB'), ('much', 'JJ'), ('wood', 'NN'), ('would', 'MD'), ('a', 'DT'), ('woodchuck', 'JJ'), ('chuck', 'NN'), ('if', 'IN'), ('a', 'DT'), ('woodchuck', 'NN'), ('could', 'MD'), ('chuck', 'VB'), ('wood', 'NN'), ('?', '.')]\n",
      "[('How', 'WRB'), ('much', 'JJ'), ('wood', 'NN'), ('would', 'MD'), ('a', 'DT'), ('woodchuck', 'JJ'), ('chuck', 'NN'), ('if', 'IN'), ('a', 'DT'), ('woodchuck', 'NN'), ('could', 'MD'), ('chuck', 'VB'), ('wood', 'NN'), ('?', '.')]\n",
      "[('How', 'WRB'), ('much', 'JJ'), ('wood', 'NN'), ('would', 'MD'), ('a', 'DT'), ('woodchuck', 'JJ'), ('chuck', 'NN'), ('if', 'IN'), ('a', 'DT'), ('woodchuck', 'NN'), ('could', 'MD'), ('chuck', 'VB'), ('wood', 'NN'), ('?', '.')]\n",
      "[('How', 'WRB'), ('much', 'JJ'), ('wood', 'NN'), ('would', 'MD'), ('a', 'DT'), ('woodchuck', 'JJ'), ('chuck', 'NN'), ('if', 'IN'), ('a', 'DT'), ('woodchuck', 'NN'), ('could', 'MD'), ('chuck', 'VB'), ('wood', 'NN'), ('?', '.')]\n",
      "[('How', 'WRB'), ('much', 'JJ'), ('wood', 'NN'), ('would', 'MD'), ('a', 'DT'), ('woodchuck', 'JJ'), ('chuck', 'NN'), ('if', 'IN'), ('a', 'DT'), ('woodchuck', 'NN'), ('could', 'MD'), ('chuck', 'VB'), ('wood', 'NN'), ('?', '.')]\n",
      "[('How', 'WRB'), ('much', 'JJ'), ('wood', 'NN'), ('would', 'MD'), ('a', 'DT'), ('woodchuck', 'JJ'), ('chuck', 'NN'), ('if', 'IN'), ('a', 'DT'), ('woodchuck', 'NN'), ('could', 'MD'), ('chuck', 'VB'), ('wood', 'NN'), ('?', '.')]\n",
      "[('How', 'WRB'), ('much', 'JJ'), ('wood', 'NN'), ('would', 'MD'), ('a', 'DT'), ('woodchuck', 'JJ'), ('chuck', 'NN'), ('if', 'IN'), ('a', 'DT'), ('woodchuck', 'NN'), ('could', 'MD'), ('chuck', 'VB'), ('wood', 'NN'), ('?', '.')]\n",
      "[('How', 'WRB'), ('much', 'JJ'), ('wood', 'NN'), ('would', 'MD'), ('a', 'DT'), ('woodchuck', 'JJ'), ('chuck', 'NN'), ('if', 'IN'), ('a', 'DT'), ('woodchuck', 'NN'), ('could', 'MD'), ('chuck', 'VB'), ('wood', 'NN'), ('?', '.')]\n",
      "[('How', 'WRB'), ('much', 'JJ'), ('wood', 'NN'), ('would', 'MD'), ('a', 'DT'), ('woodchuck', 'JJ'), ('chuck', 'NN'), ('if', 'IN'), ('a', 'DT'), ('woodchuck', 'NN'), ('could', 'MD'), ('chuck', 'VB'), ('wood', 'NN'), ('?', '.')]\n",
      "[('How', 'WRB'), ('much', 'JJ'), ('wood', 'NN'), ('would', 'MD'), ('a', 'DT'), ('woodchuck', 'JJ'), ('chuck', 'NN'), ('if', 'IN'), ('a', 'DT'), ('woodchuck', 'NN'), ('could', 'MD'), ('chuck', 'VB'), ('wood', 'NN'), ('?', '.')]\n",
      "[('How', 'WRB'), ('much', 'JJ'), ('wood', 'NN'), ('would', 'MD'), ('a', 'DT'), ('woodchuck', 'JJ'), ('chuck', 'NN'), ('if', 'IN'), ('a', 'DT'), ('woodchuck', 'NN'), ('could', 'MD'), ('chuck', 'VB'), ('wood', 'NN'), ('?', '.')]\n",
      "[('How', 'WRB'), ('much', 'JJ'), ('wood', 'NN'), ('would', 'MD'), ('a', 'DT'), ('woodchuck', 'JJ'), ('chuck', 'NN'), ('if', 'IN'), ('a', 'DT'), ('woodchuck', 'NN'), ('could', 'MD'), ('chuck', 'VB'), ('wood', 'NN'), ('?', '.')]\n",
      "[('How', 'WRB'), ('much', 'JJ'), ('wood', 'NN'), ('would', 'MD'), ('a', 'DT'), ('woodchuck', 'JJ'), ('chuck', 'NN'), ('if', 'IN'), ('a', 'DT'), ('woodchuck', 'NN'), ('could', 'MD'), ('chuck', 'VB'), ('wood', 'NN'), ('?', '.')]\n",
      "[('How', 'WRB'), ('much', 'JJ'), ('wood', 'NN'), ('would', 'MD'), ('a', 'DT'), ('woodchuck', 'JJ'), ('chuck', 'NN'), ('if', 'IN'), ('a', 'DT'), ('woodchuck', 'NN'), ('could', 'MD'), ('chuck', 'VB'), ('wood', 'NN'), ('?', '.')]\n",
      "[('How', 'WRB'), ('much', 'JJ'), ('wood', 'NN'), ('would', 'MD'), ('a', 'DT'), ('woodchuck', 'JJ'), ('chuck', 'NN'), ('if', 'IN'), ('a', 'DT'), ('woodchuck', 'NN'), ('could', 'MD'), ('chuck', 'VB'), ('wood', 'NN'), ('?', '.')]\n",
      "[('How', 'WRB'), ('much', 'JJ'), ('wood', 'NN'), ('would', 'MD'), ('a', 'DT'), ('woodchuck', 'JJ'), ('chuck', 'NN'), ('if', 'IN'), ('a', 'DT'), ('woodchuck', 'NN'), ('could', 'MD'), ('chuck', 'VB'), ('wood', 'NN'), ('?', '.')]\n",
      "[('How', 'WRB'), ('much', 'JJ'), ('wood', 'NN'), ('would', 'MD'), ('a', 'DT'), ('woodchuck', 'JJ'), ('chuck', 'NN'), ('if', 'IN'), ('a', 'DT'), ('woodchuck', 'NN'), ('could', 'MD'), ('chuck', 'VB'), ('wood', 'NN'), ('?', '.')]\n",
      "[('How', 'WRB'), ('much', 'JJ'), ('wood', 'NN'), ('would', 'MD'), ('a', 'DT'), ('woodchuck', 'JJ'), ('chuck', 'NN'), ('if', 'IN'), ('a', 'DT'), ('woodchuck', 'NN'), ('could', 'MD'), ('chuck', 'VB'), ('wood', 'NN'), ('?', '.')]\n",
      "[('How', 'WRB'), ('much', 'JJ'), ('wood', 'NN'), ('would', 'MD'), ('a', 'DT'), ('woodchuck', 'JJ'), ('chuck', 'NN'), ('if', 'IN'), ('a', 'DT'), ('woodchuck', 'NN'), ('could', 'MD'), ('chuck', 'VB'), ('wood', 'NN'), ('?', '.')]\n",
      "[('How', 'WRB'), ('much', 'JJ'), ('wood', 'NN'), ('would', 'MD'), ('a', 'DT'), ('woodchuck', 'JJ'), ('chuck', 'NN'), ('if', 'IN'), ('a', 'DT'), ('woodchuck', 'NN'), ('could', 'MD'), ('chuck', 'VB'), ('wood', 'NN'), ('?', '.')]\n",
      "[('How', 'WRB'), ('much', 'JJ'), ('wood', 'NN'), ('would', 'MD'), ('a', 'DT'), ('woodchuck', 'JJ'), ('chuck', 'NN'), ('if', 'IN'), ('a', 'DT'), ('woodchuck', 'NN'), ('could', 'MD'), ('chuck', 'VB'), ('wood', 'NN'), ('?', '.')]\n",
      "[('How', 'WRB'), ('much', 'JJ'), ('wood', 'NN'), ('would', 'MD'), ('a', 'DT'), ('woodchuck', 'JJ'), ('chuck', 'NN'), ('if', 'IN'), ('a', 'DT'), ('woodchuck', 'NN'), ('could', 'MD'), ('chuck', 'VB'), ('wood', 'NN'), ('?', '.')]\n",
      "[('How', 'WRB'), ('much', 'JJ'), ('wood', 'NN'), ('would', 'MD'), ('a', 'DT'), ('woodchuck', 'JJ'), ('chuck', 'NN'), ('if', 'IN'), ('a', 'DT'), ('woodchuck', 'NN'), ('could', 'MD'), ('chuck', 'VB'), ('wood', 'NN'), ('?', '.')]\n",
      "[('How', 'WRB'), ('much', 'JJ'), ('wood', 'NN'), ('would', 'MD'), ('a', 'DT'), ('woodchuck', 'JJ'), ('chuck', 'NN'), ('if', 'IN'), ('a', 'DT'), ('woodchuck', 'NN'), ('could', 'MD'), ('chuck', 'VB'), ('wood', 'NN'), ('?', '.')]\n",
      "[('How', 'WRB'), ('much', 'JJ'), ('wood', 'NN'), ('would', 'MD'), ('a', 'DT'), ('woodchuck', 'JJ'), ('chuck', 'NN'), ('if', 'IN'), ('a', 'DT'), ('woodchuck', 'NN'), ('could', 'MD'), ('chuck', 'VB'), ('wood', 'NN'), ('?', '.')]\n",
      "[('How', 'WRB'), ('much', 'JJ'), ('wood', 'NN'), ('would', 'MD'), ('a', 'DT'), ('woodchuck', 'JJ'), ('chuck', 'NN'), ('if', 'IN'), ('a', 'DT'), ('woodchuck', 'NN'), ('could', 'MD'), ('chuck', 'VB'), ('wood', 'NN'), ('?', '.')]\n"
     ]
    }
   ],
   "source": [
    "for text in texts:\n",
    "    sentences = nltk.sent_tokenize(texts)\n",
    "    for sentence in sentences:\n",
    "        words = nltk.word_tokenize(sentence)\n",
    "        tagged = nltk.pos_tag(words)\n",
    "        print(tagged)"
   ]
  },
  {
   "cell_type": "code",
   "execution_count": null,
   "id": "50f9fee7",
   "metadata": {},
   "outputs": [],
   "source": []
  }
 ],
 "metadata": {
  "kernelspec": {
   "display_name": "Python 3 (ipykernel)",
   "language": "python",
   "name": "python3"
  },
  "language_info": {
   "codemirror_mode": {
    "name": "ipython",
    "version": 3
   },
   "file_extension": ".py",
   "mimetype": "text/x-python",
   "name": "python",
   "nbconvert_exporter": "python",
   "pygments_lexer": "ipython3",
   "version": "3.9.12"
  }
 },
 "nbformat": 4,
 "nbformat_minor": 5
}
